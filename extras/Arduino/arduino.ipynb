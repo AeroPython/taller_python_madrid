{
 "cells": [
  {
   "cell_type": "markdown",
   "metadata": {
    "collapsed": false
   },
   "source": [
    "## Interactuar con arduino desde un Notebook"
   ]
  },
  {
   "cell_type": "markdown",
   "metadata": {},
   "source": [
    "AVISO DE CHAPUZA SUPREMA"
   ]
  },
  {
   "cell_type": "markdown",
   "metadata": {},
   "source": [
    "Primero, abrimos la vía de comunicación"
   ]
  },
  {
   "cell_type": "code",
   "execution_count": 1,
   "metadata": {
    "collapsed": true
   },
   "outputs": [],
   "source": [
    "import serial\n",
    "import datetime"
   ]
  },
  {
   "cell_type": "code",
   "execution_count": 3,
   "metadata": {
    "collapsed": false
   },
   "outputs": [],
   "source": [
    "ser = serial.Serial('COM4', 9600)\n",
    "\n",
    "#Linux: ser = serial.Serial('/dev/ttyACM0', 9600)"
   ]
  },
  {
   "cell_type": "markdown",
   "metadata": {},
   "source": [
    "Con la función readline() podemos leer, y con decode la dejamos más bonita"
   ]
  },
  {
   "cell_type": "code",
   "execution_count": 4,
   "metadata": {
    "collapsed": false,
    "scrolled": true
   },
   "outputs": [
    {
     "name": "stdout",
     "output_type": "stream",
     "text": [
      "Medida: 85.00\n",
      "\n",
      "esperando\n",
      "\n",
      "mode escucha\n",
      "\n",
      "Medida: 85.00\n",
      "\n",
      "esperando\n",
      "\n",
      "mode escucha\n",
      "\n",
      "Medida: 85.00\n",
      "\n",
      "esperando\n",
      "\n",
      "mode escucha\n",
      "\n",
      "Medida: 85.24\n",
      "\n",
      "esperando\n",
      "\n",
      "mode escucha\n",
      "\n",
      "Medida: 85.00\n",
      "\n",
      "esperando\n",
      "\n",
      "mode escucha\n",
      "\n",
      "Medida: 85.00\n",
      "\n",
      "esperando\n",
      "\n",
      "mode escucha\n",
      "\n",
      "Medida: 85.00\n",
      "\n",
      "esperando\n",
      "\n",
      "mode escucha\n",
      "\n",
      "Medida: 85.00\n",
      "\n",
      "esperando\n",
      "\n",
      "mode escucha\n",
      "\n",
      "Medida: 85.00\n",
      "\n",
      "esperando\n",
      "\n",
      "mode escucha\n",
      "\n",
      "Medida: 85.00\n",
      "\n",
      "esperando\n",
      "\n",
      "mode escucha\n",
      "\n",
      "Medida: 85.00\n",
      "\n",
      "esperando\n",
      "\n",
      "mode escucha\n",
      "\n",
      "Medida: 85.00\n",
      "\n",
      "esperando\n",
      "\n",
      "mode escucha\n",
      "\n",
      "Medida: 85.00\n",
      "\n",
      "esperando\n",
      "\n",
      "mode escucha\n",
      "\n",
      "Medida: 85.24\n",
      "\n",
      "esperando\n",
      "\n",
      "mode escucha\n",
      "\n",
      "Medida: 85.00\n",
      "\n",
      "esperando\n",
      "\n",
      "mode escucha\n",
      "\n",
      "Medida: 85.00\n",
      "\n",
      "esperando\n",
      "\n",
      "mode escucha\n",
      "\n",
      "Medida: 85.00\n",
      "\n",
      "esperando\n",
      "\n",
      "mode escucha\n",
      "\n",
      "Medida: 85.00\n",
      "\n",
      "esperando\n",
      "\n",
      "mode escucha\n",
      "\n",
      "Medida: 85.00\n",
      "\n",
      "esperando\n",
      "\n",
      "mode escucha\n",
      "\n",
      "Medida: 85.24\n",
      "\n",
      "esperando\n",
      "\n",
      "mode escucha\n",
      "\n",
      "Medida: 85.24\n",
      "\n",
      "esperando\n",
      "\n",
      "mode escucha\n",
      "\n",
      "Medida: 85.24\n",
      "\n",
      "esperando\n",
      "\n",
      "mode escucha\n",
      "\n",
      "Medida: 85.24\n",
      "\n",
      "esperando\n",
      "\n",
      "mode escucha\n",
      "\n",
      "Medida: 85.24\n",
      "\n",
      "esperando\n",
      "\n",
      "mode escucha\n",
      "\n",
      "Medida: 85.24\n",
      "\n",
      "esperando\n",
      "\n",
      "mode escucha\n",
      "\n",
      "Medida: 85.24\n",
      "\n",
      "esperando\n",
      "\n",
      "mode escucha\n",
      "\n",
      "Medida: 85.24\n",
      "\n",
      "esperando\n",
      "\n",
      "mode escucha\n",
      "\n",
      "Medida: 85.24\n",
      "\n",
      "esperando\n",
      "\n",
      "mode escucha\n",
      "\n",
      "Medida: 85.48\n",
      "\n",
      "esperando\n",
      "\n",
      "mode escucha\n",
      "\n",
      "Medida: 85.48\n",
      "\n",
      "esperando\n",
      "\n",
      "mode escucha\n",
      "\n",
      "Medida: 85.48\n",
      "\n",
      "esperando\n",
      "\n",
      "mode escucha\n",
      "\n",
      "Medida: 85.48\n",
      "\n",
      "esperando\n",
      "\n",
      "mode escucha\n",
      "\n",
      "Medida: 85.48\n",
      "\n",
      "esperando\n",
      "\n",
      "mode escucha\n",
      "\n",
      "Medida: 85.48\n",
      "\n"
     ]
    }
   ],
   "source": [
    "for i in range(100):\n",
    "    print(ser.readline().decode(\"utf-8\") )"
   ]
  },
  {
   "cell_type": "markdown",
   "metadata": {},
   "source": [
    "Podemos también escribir!"
   ]
  },
  {
   "cell_type": "code",
   "execution_count": null,
   "metadata": {
    "collapsed": true
   },
   "outputs": [],
   "source": [
    "ser.write(b'50')"
   ]
  },
  {
   "cell_type": "markdown",
   "metadata": {},
   "source": [
    "Para lo siguiente, tendremos que cortar la comunicación"
   ]
  },
  {
   "cell_type": "code",
   "execution_count": 5,
   "metadata": {
    "collapsed": true
   },
   "outputs": [],
   "source": [
    "ser.close()"
   ]
  },
  {
   "cell_type": "markdown",
   "metadata": {},
   "source": [
    "Hagamos cosas de verdad"
   ]
  },
  {
   "cell_type": "code",
   "execution_count": null,
   "metadata": {
    "collapsed": false
   },
   "outputs": [],
   "source": [
    "ser = serial.Serial('COM4', 9600) #Iniciamos comunicación\n",
    "\n",
    "print('preparado')\n",
    "for i in range(3):\n",
    "    print(ser.readline().decode(\"utf-8\") ) #Espera hasta que empiece a comunicarse\n",
    "# -----------------------------------\n",
    "ser.write(b'50') #Enviamos una orden\n",
    "print('mensaje enviado\\r\\n')\n",
    "for i in range(2):\n",
    "    print(ser.readline().decode(\"utf-8\") ) #Leemos un par de veces para limpiar el puerto por si acaso\n",
    "\n",
    "for i in range(100): #Leemos hasta que pase a 'Esperando', o hasta que termine\n",
    "    if ser.readline() == b'esperando\\r\\n':\n",
    "        print('esperando\\r\\n')\n",
    "        print(ser.readline().decode(\"utf-8\") )\n",
    "        print(ser.readline().decode(\"utf-8\") )\n",
    "        break\n",
    "    print(ser.readline().decode(\"utf-8\") )\n",
    "#------------------------------------\n",
    "print('pasando a segunda orden\\r\\n')    \n",
    "ser.write(b'150')\n",
    "for i in range(3):\n",
    "    print(ser.readline().decode(\"utf-8\") )\n",
    "time.sleep(2)\n",
    "for i in range(100):\n",
    "    if ser.readline() == b'esperando\\r\\n':\n",
    "        print('esperando\\r\\n')\n",
    "        print(ser.readline().decode(\"utf-8\") )\n",
    "        print(ser.readline().decode(\"utf-8\") )\n",
    "        break\n",
    "    print(ser.readline().decode(\"utf-8\") )\n",
    "ser.close()"
   ]
  },
  {
   "cell_type": "markdown",
   "metadata": {},
   "source": [
    "Un poco más avanzado!"
   ]
  },
  {
   "cell_type": "code",
   "execution_count": 15,
   "metadata": {
    "collapsed": false,
    "scrolled": true
   },
   "outputs": [
    {
     "name": "stdout",
     "output_type": "stream",
     "text": [
      "preparado\n",
      "Medida: 84.79\n",
      "\n",
      "esperando\n",
      "\n",
      "mode escucha\n",
      "\n",
      "mensaje enviado\n",
      "\n",
      "Medida: 84.79\n",
      "\n",
      "moviendo a 50\n",
      "\n",
      "moviendo a 50.00 posicion: 83.50 velocidad: -0.20\n",
      "\n",
      "moviendo a 50.00 posicion: 77.71 velocidad: -0.40\n",
      "\n",
      "moviendo a 50.00 posicion: 68.50 velocidad: -0.60\n",
      "\n",
      "moviendo a 50.00 posicion: 58.21 velocidad: -0.40\n",
      "\n",
      "moviendo a 50.00 posicion: 51.79 velocidad: -0.20\n",
      "\n",
      "moviendo a 50.00 posicion: 49.64 velocidad: -0.00\n",
      "\n",
      "moviendo a 50.00 posicion: 49.64 velocidad: 0.01\n",
      "\n",
      "mode escucha\n",
      "\n",
      "Medida: 49.64\n",
      "\n",
      "esperando\n",
      "\n",
      "mode escucha\n",
      "\n",
      "Medida: 49.64\n",
      "\n",
      "pasando a segunda orden\n",
      "\n",
      "esperando\n",
      "\n",
      "mode escucha\n",
      "\n",
      "Medida: 49.64\n",
      "\n",
      "moviendo a 150\n",
      "\n",
      "moviendo a 150.00 posicion: 50.19 velocidad: 0.19\n",
      "\n",
      "moviendo a 150.00 posicion: 55.56 velocidad: 0.39\n",
      "\n",
      "moviendo a 150.00 posicion: 65.23 velocidad: 0.59\n",
      "\n",
      "moviendo a 150.00 posicion: 78.12 velocidad: 0.79\n",
      "\n",
      "moviendo a 150.00 posicion: 94.90 velocidad: 0.99\n",
      "\n",
      "moviendo a 150.00 posicion: 114.94 velocidad: 0.85\n",
      "\n",
      "moviendo a 150.00 posicion: 129.67 velocidad: 0.65\n",
      "\n",
      "moviendo a 150.00 posicion: 141.26 velocidad: 0.45\n",
      "\n",
      "moviendo a 150.00 posicion: 150.20 velocidad: 0.25\n",
      "\n",
      "moviendo a 150.00 posicion: 153.58 velocidad: 0.05\n",
      "\n",
      "moviendo a 150.00 posicion: 153.82 velocidad: -0.07\n",
      "\n",
      "moviendo a 150.00 posicion: 152.37 velocidad: -0.05\n",
      "\n",
      "moviendo a 150.00 posicion: 151.65 velocidad: -0.03\n",
      "\n",
      "moviendo a 150.00 posicion: 151.65 velocidad: -0.03\n",
      "\n",
      "moviendo a 150.00 posicion: 150.92 velocidad: -0.02\n",
      "\n",
      "moviendo a 150.00 posicion: 150.92 velocidad: -0.02\n",
      "\n",
      "moviendo a 150.00 posicion: 150.44 velocidad: -0.01\n",
      "\n",
      "moviendo a 150.00 posicion: 150.44 velocidad: -0.01\n",
      "\n",
      "moviendo a 150.00 posicion: 150.68 velocidad: -0.01\n",
      "\n",
      "moviendo a 150.00 posicion: 150.68 velocidad: -0.01\n",
      "\n",
      "moviendo a 150.00 posicion: 150.44 velocidad: -0.01\n",
      "\n",
      "moviendo a 150.00 posicion: 149.23 velocidad: 0.01\n",
      "\n",
      "moviendo a 150.00 posicion: 149.23 velocidad: 0.01\n",
      "\n",
      "moviendo a 150.00 posicion: 149.23 velocidad: 0.01\n",
      "\n",
      "moviendo a 150.00 posicion: 150.92 velocidad: -0.02\n",
      "\n",
      "moviendo a 150.00 posicion: 150.68 velocidad: -0.01\n",
      "\n",
      "moviendo a 150.00 posicion: 150.68 velocidad: -0.01\n",
      "\n",
      "moviendo a 150.00 posicion: 150.68 velocidad: -0.01\n",
      "\n",
      "moviendo a 150.00 posicion: 150.68 velocidad: -0.01\n",
      "\n",
      "mode escucha\n",
      "\n",
      "Medida: 148.51\n",
      "\n",
      "esperando\n",
      "\n",
      "mode escucha\n",
      "\n",
      "Medida: 148.51\n",
      "\n"
     ]
    }
   ],
   "source": [
    "tiempos = []\n",
    "posiciones =[]\n",
    "starttime = datetime.datetime.now()\n",
    "\n",
    "ser = serial.Serial('COM4', 9600) #Iniciamos comunicación\n",
    "\n",
    "print('preparado')\n",
    "for i in range(3):\n",
    "    lectura = ser.readline().decode(\"utf-8\")\n",
    "    print(lectura) #Espera hasta que empiece a comunicarse\n",
    "    if lectura[:8] == 'Medida: ':\n",
    "        tiempo = datetime.datetime.now()\n",
    "        deltat = tiempo - starttime\n",
    "        deltatvalue = deltat.seconds + deltat.microseconds/1000000\n",
    "        tiempos.append(deltatvalue)\n",
    "        medida = float(lectura[8:])\n",
    "        posiciones.append(medida)\n",
    "# -----------------------------------\n",
    "ser.write(b'50') #Enviamos una orden\n",
    "print('mensaje enviado\\r\\n')\n",
    "for i in range(2):\n",
    "    print(ser.readline().decode(\"utf-8\") ) #Leemos un par de veces para limpiar el puerto por si acaso\n",
    "\n",
    "for i in range(100): #Leemos hasta que pase a 'Esperando', o hasta que termine\n",
    "    lectura = ser.readline().decode(\"utf-8\")\n",
    "    print(lectura) \n",
    "    if lectura == 'esperando\\r\\n':\n",
    "        print(ser.readline().decode(\"utf-8\") )\n",
    "        print(ser.readline().decode(\"utf-8\") )\n",
    "        break\n",
    "    if lectura[:8] == 'moviendo':\n",
    "        _pos = lectura.find('posicion') + 10\n",
    "        _pos2 = lectura.find(' ',_pos )\n",
    "        medida = float(lectura[_pos : _pos2])\n",
    "        posiciones.append(medida)\n",
    "        tiempo = datetime.datetime.now()\n",
    "        deltat = tiempo - starttime\n",
    "        deltatvalue = deltat.seconds + deltat.microseconds/1000000\n",
    "        tiempos.append(deltatvalue)\n",
    "   \n",
    "#------------------------------------\n",
    "print('pasando a segunda orden\\r\\n')    \n",
    "ser.write(b'150')\n",
    "for i in range(4):\n",
    "    lectura = ser.readline().decode(\"utf-8\")\n",
    "    print(lectura) #Espera hasta que empiece a comunicarse\n",
    "    if lectura[:8] == 'Medida: ':\n",
    "        tiempo = datetime.datetime.now()\n",
    "        deltat = tiempo - starttime\n",
    "        deltatvalue = deltat.seconds + deltat.microseconds/1000000\n",
    "        tiempos.append(deltatvalue)\n",
    "        medida = float(lectura[8:])\n",
    "        posiciones.append(medida)\n",
    "for i in range(100):\n",
    "    lectura = ser.readline().decode(\"utf-8\")\n",
    "    print(lectura) \n",
    "    if lectura == 'esperando\\r\\n':\n",
    "        print(ser.readline().decode(\"utf-8\") )\n",
    "        print(ser.readline().decode(\"utf-8\") )\n",
    "        break\n",
    "    if lectura[:8] == 'moviendo':\n",
    "        _pos = lectura.find('posicion') + 10\n",
    "        _pos2 = lectura.find(' ',_pos )\n",
    "        medida = float(lectura[_pos : _pos2])\n",
    "        posiciones.append(medida)\n",
    "        tiempo = datetime.datetime.now()\n",
    "        deltat = tiempo - starttime\n",
    "        deltatvalue = deltat.seconds + deltat.microseconds/1000000\n",
    "        tiempos.append(deltatvalue)\n",
    "ser.close()"
   ]
  },
  {
   "cell_type": "code",
   "execution_count": 17,
   "metadata": {
    "collapsed": false
   },
   "outputs": [
    {
     "data": {
      "text/plain": [
       "[9.550095,\n",
       " 11.500115,\n",
       " 11.920119,\n",
       " 12.330123,\n",
       " 12.740127,\n",
       " 13.160131,\n",
       " 13.570135,\n",
       " 13.980139,\n",
       " 15.470154,\n",
       " 16.900168999999998,\n",
       " 17.310173,\n",
       " 17.720177,\n",
       " 18.130181,\n",
       " 18.550185,\n",
       " 18.960189,\n",
       " 19.380193,\n",
       " 19.790197,\n",
       " 20.200202,\n",
       " 20.610206,\n",
       " 21.03021,\n",
       " 21.440214,\n",
       " 21.850218,\n",
       " 22.260222,\n",
       " 22.680226,\n",
       " 23.09023,\n",
       " 23.500235,\n",
       " 23.910239,\n",
       " 24.320243,\n",
       " 24.740247,\n",
       " 25.150251,\n",
       " 25.560255,\n",
       " 25.970259,\n",
       " 26.380263,\n",
       " 26.800268,\n",
       " 27.210272,\n",
       " 27.630276,\n",
       " 28.03028,\n",
       " 28.450284]"
      ]
     },
     "execution_count": 17,
     "metadata": {},
     "output_type": "execute_result"
    }
   ],
   "source": [
    "tiempos"
   ]
  },
  {
   "cell_type": "code",
   "execution_count": 16,
   "metadata": {
    "collapsed": false
   },
   "outputs": [
    {
     "data": {
      "text/plain": [
       "[84.79,\n",
       " 83.5,\n",
       " 77.71,\n",
       " 68.5,\n",
       " 58.21,\n",
       " 51.79,\n",
       " 49.64,\n",
       " 49.64,\n",
       " 49.64,\n",
       " 50.19,\n",
       " 55.56,\n",
       " 65.23,\n",
       " 78.12,\n",
       " 94.9,\n",
       " 114.94,\n",
       " 129.67,\n",
       " 141.26,\n",
       " 150.2,\n",
       " 153.58,\n",
       " 153.82,\n",
       " 152.37,\n",
       " 151.65,\n",
       " 151.65,\n",
       " 150.92,\n",
       " 150.92,\n",
       " 150.44,\n",
       " 150.44,\n",
       " 150.68,\n",
       " 150.68,\n",
       " 150.44,\n",
       " 149.23,\n",
       " 149.23,\n",
       " 149.23,\n",
       " 150.92,\n",
       " 150.68,\n",
       " 150.68,\n",
       " 150.68,\n",
       " 150.68]"
      ]
     },
     "execution_count": 16,
     "metadata": {},
     "output_type": "execute_result"
    }
   ],
   "source": [
    "posiciones"
   ]
  },
  {
   "cell_type": "code",
   "execution_count": 18,
   "metadata": {
    "collapsed": true
   },
   "outputs": [],
   "source": [
    "%matplotlib inline\n",
    "import matplotlib.pyplot as plt"
   ]
  },
  {
   "cell_type": "code",
   "execution_count": 20,
   "metadata": {
    "collapsed": false
   },
   "outputs": [
    {
     "data": {
      "text/plain": [
       "[<matplotlib.lines.Line2D at 0x7e1f748>]"
      ]
     },
     "execution_count": 20,
     "metadata": {},
     "output_type": "execute_result"
    },
    {
     "data": {
      "image/png": "[encoded data removed]",
      "text/plain": [
       "<matplotlib.figure.Figure at 0x7b176d8>"
      ]
     },
     "metadata": {},
     "output_type": "display_data"
    }
   ],
   "source": [
    "plt.figure(figsize=(10,6))\n",
    "plt.plot(tiempos, posiciones)"
   ]
  },
  {
   "cell_type": "code",
   "execution_count": null,
   "metadata": {
    "collapsed": true
   },
   "outputs": [],
   "source": []
  }
 ],
 "metadata": {
  "kernelspec": {
   "display_name": "Python 3",
   "language": "python",
   "name": "python3"
  },
  "language_info": {
   "codemirror_mode": {
    "name": "ipython",
    "version": 3
   },
   "file_extension": ".py",
   "mimetype": "text/x-python",
   "name": "python",
   "nbconvert_exporter": "python",
   "pygments_lexer": "ipython3",
   "version": "3.5.2"
  }
 },
 "nbformat": 4,
 "nbformat_minor": 0
}
